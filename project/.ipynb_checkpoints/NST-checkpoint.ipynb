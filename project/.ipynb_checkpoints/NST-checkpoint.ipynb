{
 "cells": [
  {
   "cell_type": "code",
   "execution_count": 48,
   "id": "087e7684",
   "metadata": {},
   "outputs": [],
   "source": [
    "import tensorflow as tf\n",
    "import time\n",
    "import glob"
   ]
  },
  {
   "cell_type": "code",
   "execution_count": 54,
   "id": "7cd8e70f",
   "metadata": {},
   "outputs": [],
   "source": [
    "target_img_path = glob.glob('./content_img/*.jpg')[0]\n",
    "style_img_path = glob.glob('./style_img/*.jpg')[0]\n",
    "IMG_MAX_SIZE = 512\n",
    "style_weight = 1e-2\n",
    "content_weight = 1e4\n",
    "LEN_STYLE = 5\n",
    "LAYERS = ['block1_conv1',\n",
    "          'block2_conv1',\n",
    "          'block3_conv1', \n",
    "          'block4_conv1', \n",
    "          'block5_conv1', \n",
    "          'block5_conv4']\n",
    "\n",
    "epochs = 1"
   ]
  },
  {
   "cell_type": "code",
   "execution_count": 55,
   "id": "14896072",
   "metadata": {},
   "outputs": [],
   "source": [
    "def load_img(img_path):\n",
    "    img = tf.image.decode_jpeg(tf.io.read_file(img_path)) # uint8\n",
    "    img = tf.image.convert_image_dtype(img, tf.float32)\n",
    "    shape = tf.cast(tf.shape(img)[:2], tf.float32)\n",
    "    scale = IMG_MAX_SIZE / max(shape)\n",
    "    new_shape = tf.cast(shape * scale, tf.int32)\n",
    "    new_img = tf.image.resize(img, new_shape) # float\n",
    "    return new_img[tf.newaxis, ...]\n",
    "\n",
    "def vgg_layers():\n",
    "    vgg = tf.keras.applications.VGG19(include_top=False, weights='imagenet')\n",
    "    vgg.trainable = False\n",
    "    outputs = [vgg.get_layer(name).output for name in LAYERS]\n",
    "    model = tf.keras.Model([vgg.input], outputs)\n",
    "    return model\n",
    "\n",
    "def gram_matrix(output1):\n",
    "    res = tf.einsum('abcd,abce->ade', output1, output1)\n",
    "    shape = tf.shape(output1)\n",
    "    divisor = tf.cast(shape[1] * shape[2], tf.float32)\n",
    "    return res[0] / divisor"
   ]
  },
  {
   "cell_type": "code",
   "execution_count": 56,
   "id": "035e5f08",
   "metadata": {},
   "outputs": [],
   "source": [
    "target_img = load_img(target_img_path)\n",
    "style_img = load_img(style_img_path)\n",
    "\n",
    "model = vgg_layers()\n",
    "\n",
    "pre_style_img = tf.keras.applications.vgg19.preprocess_input(style_img * 255.0)\n",
    "pre_target_img = tf.keras.applications.vgg19.preprocess_input(target_img * 255.0)\n",
    "style_outputs = model(pre_style_img)\n",
    "target_outputs = model(pre_target_img)\n",
    "\n",
    "style_outputs = list(map(gram_matrix, style_outputs))\n",
    "target_outputs = list(map(gram_matrix, target_outputs))\n",
    "\n",
    "goal_outputs = style_outputs[:LEN_STYLE] + target_outputs[LEN_STYLE:]"
   ]
  },
  {
   "cell_type": "code",
   "execution_count": 57,
   "id": "5d0ada80",
   "metadata": {},
   "outputs": [],
   "source": [
    "def get_loss(outputs, goal_outputs):\n",
    "    style_loss = tf.add_n([tf.reduce_mean((out - goal)**2) for out, goal in zip(outputs[:LEN_STYLE], goal_outputs[:LEN_STYLE])])\n",
    "    content_loss = tf.add_n([tf.reduce_mean((out - goal)**2) for out, goal in zip(outputs[LEN_STYLE:], goal_outputs[LEN_STYLE:])])\n",
    "    \n",
    "    style_loss *= style_weight / LEN_STYLE\n",
    "    content_loss *= content_weight / (len(LAYERS) - LEN_STYLE)\n",
    "\n",
    "    total_loss = style_loss + content_loss\n",
    "\n",
    "    return total_loss"
   ]
  },
  {
   "cell_type": "code",
   "execution_count": 58,
   "id": "fe40bb27",
   "metadata": {},
   "outputs": [],
   "source": [
    "image = tf.Variable(target_img)\n",
    "\n",
    "optimizer = tf.optimizers.Adam(learning_rate=0.02, beta_1=0.99, epsilon=1e-1)\n",
    "\n",
    "def train_step():\n",
    "    with tf.GradientTape() as tape:\n",
    "        tape.watch(image)\n",
    "        outputs = tf.keras.applications.vgg19.preprocess_input(image * 255.0)\n",
    "        outputs = model(outputs)\n",
    "        outputs = list(map(gram_matrix, outputs))\n",
    "\n",
    "        loss = get_loss(outputs, goal_outputs)\n",
    "        grad = tape.gradient(loss, image)\n",
    "        # print(grad)\n",
    "        optimizer.apply_gradients([(grad, image)])\n",
    "        image.assign(tf.clip_by_value(image, 0.0, 1.0))"
   ]
  },
  {
   "cell_type": "code",
   "execution_count": 59,
   "id": "af29935b",
   "metadata": {},
   "outputs": [],
   "source": [
    "def run():\n",
    "    start = time.time()\n",
    "    step = 0\n",
    "    for epoch in range(epochs):\n",
    "        for m in range(50):\n",
    "            step += 1\n",
    "            train_step()\n",
    "#             print(\".\", end='')\n",
    "#         display.clear_output(wait=True)\n",
    "        tf.keras.preprocessing.image.save_img('./result_img/image.jpg', image[0])\n",
    "        print(\"Train step: {}\".format(step))\n",
    "    end = time.time()\n",
    "    print(\"Total time: {:.1f}\".format(end-start))"
   ]
  },
  {
   "cell_type": "code",
   "execution_count": 60,
   "id": "4b62cf01",
   "metadata": {},
   "outputs": [
    {
     "name": "stdout",
     "output_type": "stream",
     "text": [
      "Train step: 50\n",
      "Total time: 16.3\n"
     ]
    }
   ],
   "source": [
    "run()"
   ]
  },
  {
   "cell_type": "code",
   "execution_count": null,
   "id": "85388454",
   "metadata": {},
   "outputs": [],
   "source": []
  },
  {
   "cell_type": "code",
   "execution_count": null,
   "id": "127aaea6",
   "metadata": {},
   "outputs": [],
   "source": []
  },
  {
   "cell_type": "code",
   "execution_count": null,
   "id": "02529592",
   "metadata": {},
   "outputs": [],
   "source": []
  },
  {
   "cell_type": "code",
   "execution_count": null,
   "id": "77b15d6e",
   "metadata": {},
   "outputs": [],
   "source": []
  }
 ],
 "metadata": {
  "kernelspec": {
   "display_name": "Python 3",
   "language": "python",
   "name": "python3"
  },
  "language_info": {
   "codemirror_mode": {
    "name": "ipython",
    "version": 3
   },
   "file_extension": ".py",
   "mimetype": "text/x-python",
   "name": "python",
   "nbconvert_exporter": "python",
   "pygments_lexer": "ipython3",
   "version": "3.7.9"
  }
 },
 "nbformat": 4,
 "nbformat_minor": 5
}
